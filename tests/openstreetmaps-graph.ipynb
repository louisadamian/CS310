{
 "nbformat": 4,
 "nbformat_minor": 0,
 "metadata": {
  "colab": {
   "provenance": []
  },
  "kernelspec": {
   "name": "python3",
   "display_name": "Python 3 (ipykernel)",
   "language": "python"
  },
  "language_info": {
   "name": "python"
  }
 },
 "cells": [
  {
   "cell_type": "code",
   "source": "!pip install numpy networkx overpy ",
   "metadata": {
    "id": "krOMU31MNzww",
    "colab": {
     "base_uri": "https://localhost:8080/"
    },
    "outputId": "86498d8a-6035-4d9c-c00b-86e86ae790ae"
   },
   "outputs": [],
   "execution_count": null
  },
  {
   "cell_type": "code",
   "source": [
    "import pickle\n",
    "import networkx as nx\n",
    "import numpy as np\n",
    "import overpy\n",
    "import matplotlib.pyplot as plt"
   ],
   "metadata": {
    "id": "kxCl_tNbNndT"
   },
   "outputs": [],
   "execution_count": null
  },
  {
   "metadata": {},
   "cell_type": "code",
   "source": "fetch_data = True",
   "outputs": [],
   "execution_count": null
  },
  {
   "cell_type": "code",
   "metadata": {
    "id": "uvgCS_vCNVpA"
   },
   "source": [
    "from ast import NotEq\n",
    "def _gcdist(lat0:np.single, lon0:np.single, lat1:np.single, lon1:np.single)->np.single:\n",
    "    \"\"\"\n",
    "    Calculate the great circle distance between two points in meters using a spherical model of the earth (good for distances less than 475km)\n",
    "    :param lat0:\n",
    "    :param lon0:\n",
    "    :param lat1:\n",
    "    :param lon1:\n",
    "    :return:\n",
    "    \"\"\"\n",
    "    delta_lat = np.radians(lat1 - lat0)\n",
    "    delta_lon = np.radians(lon1 - lon0)\n",
    "    a = np.sin(delta_lat/2)**2+np.cos(np.radians(lat0))*np.cos(np.radians(lat1))*np.sin(delta_lon/2)**2\n",
    "    c = 2*np.arcsin(np.sqrt(a))\n",
    "    return c*np.single(6371000)\n",
    "\n",
    "def __weight(way:overpy.Way, node1:int=None, node2:int=None):\n",
    "    if node is not None and node2 is not None:\n",
    "      i1 = way.nodes.index(node1)\n",
    "      i2 = way.nodes.index(node2)\n",
    "      if i1>i2:\n",
    "        i1,i2 = i2,i1\n",
    "    else:\n",
    "      n1 =0\n",
    "      n2=len(way.nodes)\n",
    "    weight =0\n",
    "    for i in range(n1,n2-1):\n",
    "        weight+=_gcdist(float(way.nodes[i].lat), float(way.nodes[i].lon), float(way.nodes[i+1].lat), float(way.nodes[i+1].lon))\n",
    "    return weight"
   ],
   "outputs": [],
   "execution_count": null
  },
  {
   "cell_type": "code",
   "source": [
    "if fetch_data:\n",
    "    api = overpy.Overpass()\n",
    "    umb_data = api.query(\n",
    "        'way[\"highway\"~\"pedestrian|footway|steps|sidewalk|cycleway|path|corridor\"](poly: \"42.3196561 -71.0520413 42.3202193 -71.0510167 42.3175209 -71.0415681 42.3134307 -71.0430135 42.3099378 -71.0373486 42.3133297 -71.0324853 42.3189148 -71.0332685 42.3235297 -71.0451844 42.3212511 -71.0521287 42.3196561 -71.0520413\");(._;>;);out;'\n",
    "    )\n",
    "    print(umb_data)\n",
    "    with open(\"umb_data.pkl\", \"wb\") as f:\n",
    "        pickle.dump(umb_data, f)\n",
    "else:\n",
    "    with open(\"umb_data.pkl\", \"rb\") as f:\n",
    "        umb_data = pickle.load(f)\n",
    "nodes_count = np.zeros((len(umb_data.nodes),5), dtype=np.int64)\n",
    "nodes_count[:,0]=np.array(umb_data.node_ids)\n",
    "for way in umb_data.ways:\n",
    "    if way.id ==1018144900:\n",
    "        print(f\"{way.id} = {way.nodes}\")\n",
    "    for node in way.nodes:\n",
    "        if node.id == 12660490877:\n",
    "            print(node)\n",
    "        if \"entrance\" in node.tags.keys():\n",
    "            if node.tags[\"entrance\"] == \"yes\":\n",
    "                nodes_count[np.where(nodes_count == node.id)[0][0], 1] +=2\n",
    "        nodes_count[np.where(nodes_count == node.id)[0][0], 1] += 1\n",
    "graph_nodes = nodes_count[nodes_count[:,1]>1][:,0]"
   ],
   "metadata": {
    "colab": {
     "base_uri": "https://localhost:8080/"
    },
    "id": "-lNltrTBNckG",
    "outputId": "db476a80-a560-4328-a180-222040b9425d"
   },
   "outputs": [],
   "execution_count": null
  },
  {
   "cell_type": "code",
   "source": [
    "graph = nx.Graph()\n",
    "graph.add_nodes_from(graph_nodes)\n",
    "for way in umb_data.ways:\n",
    "    # if way.id == 1018144900 or way.id== 1019459515:\n",
    "        # print(f\"{way.id} points:{way._node_ids}\")\n",
    "    if \"area\" in way.tags.keys() and way.tags[\"area\"]==\"yes\":\n",
    "      nodes = np.array(way._node_ids,dtype=np.int64)\n",
    "    else:\n",
    "      nodes = np.intersect1d(graph_nodes, way._node_ids)\n",
    "    for i in range (len(nodes)-1):\n",
    "            graph.add_edge(nodes[i], nodes[i+1], weight=__weight(way))\n",
    "            # print(f\"added edge between {nodes[i]} and { nodes[j]}\")"
   ],
   "metadata": {
    "colab": {
     "base_uri": "https://localhost:8080/"
    },
    "id": "wGYwy3XxNila",
    "outputId": "0c66ff71-758d-4843-d4f4-8f40e854080d"
   },
   "outputs": [],
   "execution_count": null
  },
  {
   "cell_type": "code",
   "source": [
    "# graph.remove_nodes_from(list(nx.isolates(graph)))\n",
    "graph.number_of_edges()"
   ],
   "metadata": {
    "colab": {
     "base_uri": "https://localhost:8080/"
    },
    "id": "71NKLLW1FfA-",
    "outputId": "1f7e6c1c-5403-4867-8832-29901f024e17"
   },
   "outputs": [],
   "execution_count": null
  },
  {
   "cell_type": "code",
   "source": [
    "path = nx.astar_path(graph, 327832796, 12660490877)\n",
    "path"
   ],
   "metadata": {
    "id": "zMFoiHMnJvli"
   },
   "outputs": [],
   "execution_count": null
  },
  {
   "cell_type": "code",
   "source": "# nx.draw(graph,with_labels=True)",
   "metadata": {
    "colab": {
     "base_uri": "https://localhost:8080/",
     "height": 516
    },
    "id": "cy92Ls6JP3hg",
    "outputId": "f598081a-06cf-43fd-dfb1-6857c01bce97"
   },
   "outputs": [],
   "execution_count": null
  },
  {
   "cell_type": "code",
   "source": "nx.draw_spring(graph,with_labels=True)",
   "metadata": {
    "id": "1HDj6dKoF0Ae",
    "colab": {
     "base_uri": "https://localhost:8080/",
     "height": 516
    },
    "outputId": "c083954d-ec16-4f49-ade3-f02ced866406"
   },
   "outputs": [],
   "execution_count": null
  },
  {
   "cell_type": "code",
   "source": "nx.number_connected_components(graph)",
   "metadata": {
    "id": "Y4Puohj8Lkvb",
    "colab": {
     "base_uri": "https://localhost:8080/"
    },
    "outputId": "d985cb4b-d6b4-4964-a84e-048c04855c5c"
   },
   "outputs": [],
   "execution_count": null
  },
  {
   "cell_type": "code",
   "source": [
    "components_set = list(nx.connected_components(graph))\n",
    "for components in components_set:\n",
    "  print(len(components))\n",
    "  if len(components)<10:\n",
    "    graph.remove_nodes_from(components)\n",
    "print(components_set[1])"
   ],
   "metadata": {
    "id": "Nh9tRMp2OZBR",
    "colab": {
     "base_uri": "https://localhost:8080/"
    },
    "outputId": "2417b704-9699-4094-f2fe-3e53c3609cf8"
   },
   "outputs": [],
   "execution_count": null
  }
 ]
}
